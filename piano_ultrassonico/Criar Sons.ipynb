{
 "cells": [
  {
   "cell_type": "code",
   "execution_count": 16,
   "metadata": {},
   "outputs": [],
   "source": [
    "import numpy as np\n",
    "import serial\n",
    "import serial.tools.list_ports\n",
    "from time import sleep\n",
    "import sounddevice as sd"
   ]
  },
  {
   "cell_type": "code",
   "execution_count": 17,
   "metadata": {},
   "outputs": [
    {
     "name": "stdout",
     "output_type": "stream",
     "text": [
      "/dev/cu.Bluetooth-Incoming-Port - n/a\n",
      "/dev/cu.iworld-COM3 - n/a\n",
      "/dev/cu.iPhonedeLeandro-Wireles - n/a\n",
      "/dev/cu.usbserial-1430 - USB Serial\n"
     ]
    }
   ],
   "source": [
    "ports = serial.tools.list_ports.comports()\n",
    "for i in range(len(ports)):\n",
    "    print(ports[i])"
   ]
  },
  {
   "cell_type": "code",
   "execution_count": 18,
   "metadata": {},
   "outputs": [],
   "source": [
    "# Essa porta você deve escolher de acordo com sua Porta conectada\n",
    "ser = serial.Serial(ports[3].device, baudrate=115200, timeout=1)"
   ]
  },
  {
   "cell_type": "code",
   "execution_count": 19,
   "metadata": {},
   "outputs": [],
   "source": [
    "def gerador_de_onda(frequencia, pontos_por_seg= 44100, duracao=0.7):\n",
    "    '''\n",
    "    Função que pega a frequência e duração do tempo de uma onda \n",
    "    como base de entrada e retorna um Array de valores com todos os \n",
    "    pontos no tempo.\n",
    "    '''\n",
    "    amplitude = 4096\n",
    "    t = np.linspace(0, duracao, int(pontos_por_seg * duracao))\n",
    "    som = amplitude * np.sin(2 * np.pi * frequencia * t)\n",
    "    \n",
    "    return som"
   ]
  },
  {
   "cell_type": "code",
   "execution_count": 20,
   "metadata": {},
   "outputs": [],
   "source": [
    "def gerar_notas_piano(base_freq):\n",
    "    '''\n",
    "    base_freq = 261.63 é a frequência da nota C4 (Dó da quarta oitava)\n",
    "    A Função retorna um dicionário para todas as frequências das notas \n",
    "    do Piano\n",
    "    '''\n",
    "    # Teclas brancas estão em Maiúsculo, teclas pretas (sustenido) estão em Minúsculo\n",
    "    oitava = ['C', 'c', 'D', 'd', 'E', 'F', 'f', 'G', 'g', 'A', 'a', 'B'] \n",
    "    \n",
    "    # Gerar dicionário com as frequências das oitavas, usando a base escolhida (C4)\n",
    "    freq_notas = {oitava[i]: base_freq * pow(2,(i/12)) for i in range(len(oitava))}        \n",
    "    freq_notas[''] = 0.0 # silêncio\n",
    "    \n",
    "    return freq_notas"
   ]
  },
  {
   "cell_type": "code",
   "execution_count": 21,
   "metadata": {},
   "outputs": [],
   "source": [
    "def gerar_musica(notas_musicais, pontos_por_seg=44100, duracao=0.25, base_freq=261.63):\n",
    "    '''\n",
    "    Função que concatena todas as ondas (notas) \n",
    "    '''    \n",
    "    freq_notas = gerar_notas_piano(base_freq)\n",
    "    \n",
    "    som = [gerador_de_onda(freq_notas[nota], pontos_por_seg, duracao) for nota in notas_musicais.split(',')]\n",
    "    som = np.concatenate(som)\n",
    "   # som = np.round(som * 16300 / np.max(som),2)\n",
    "        \n",
    "    return som"
   ]
  },
  {
   "cell_type": "code",
   "execution_count": 22,
   "metadata": {},
   "outputs": [],
   "source": [
    "batom_cereja = 'E,E,E,E,G,B,A,G,G,E,E,E,G,B,A,G,D,D,D,D,D,G,B,A,G,D,D,D,D,G,B,A,G,E,E,E,E,E'"
   ]
  },
  {
   "cell_type": "code",
   "execution_count": 23,
   "metadata": {},
   "outputs": [],
   "source": [
    "musica = gerar_musica(batom_cereja, pontos_por_seg=40000)"
   ]
  },
  {
   "cell_type": "code",
   "execution_count": 11,
   "metadata": {},
   "outputs": [],
   "source": [
    "sd.play(musica,samplerate=40000)"
   ]
  },
  {
   "cell_type": "code",
   "execution_count": 24,
   "metadata": {},
   "outputs": [],
   "source": [
    "# Parâmetros\n",
    "samplerate=40000\n",
    "freq_notas = gerar_notas_piano(261.63)\n",
    "acordes = list(freq_notas)\n",
    "frequencias = list(freq_notas.values())\n",
    "freq_min=250 \n",
    "freq_max=505\n",
    "tom = 'C'"
   ]
  },
  {
   "cell_type": "code",
   "execution_count": 25,
   "metadata": {},
   "outputs": [
    {
     "data": {
      "text/plain": [
       "{'C': 261.63,\n",
       " 'c': 277.18732937722245,\n",
       " 'D': 293.66974569918125,\n",
       " 'd': 311.1322574981619,\n",
       " 'E': 329.63314428399565,\n",
       " 'F': 349.2341510465061,\n",
       " 'f': 370.00069432367286,\n",
       " 'G': 392.0020805232462,\n",
       " 'g': 415.31173722644,\n",
       " 'A': 440.00745824565865,\n",
       " 'a': 466.1716632541139,\n",
       " 'B': 493.8916728538229,\n",
       " '': 0.0}"
      ]
     },
     "execution_count": 25,
     "metadata": {},
     "output_type": "execute_result"
    }
   ],
   "source": [
    "freq_notas"
   ]
  },
  {
   "cell_type": "code",
   "execution_count": 28,
   "metadata": {},
   "outputs": [
    {
     "name": "stdout",
     "output_type": "stream",
     "text": [
      "Acorde c freq 277.19\n",
      "Acorde D freq 293.67\n",
      "Acorde d freq 311.13\n",
      "Acorde F freq 349.23\n",
      "Acorde F freq 349.23\n",
      "Acorde f freq 370.0\n",
      "Acorde g freq 415.31\n",
      "Acorde G freq 392.0\n",
      "Acorde D freq 293.67\n",
      "Acorde C freq 261.63\n",
      "Acorde C freq 261.63\n"
     ]
    },
    {
     "ename": "SerialException",
     "evalue": "read failed: [Errno 6] Device not configured",
     "output_type": "error",
     "traceback": [
      "\u001b[0;31m---------------------------------------------------------------------------\u001b[0m",
      "\u001b[0;31mOSError\u001b[0m                                   Traceback (most recent call last)",
      "\u001b[0;32m~/anaconda3/lib/python3.7/site-packages/serial/serialposix.py\u001b[0m in \u001b[0;36mread\u001b[0;34m(self, size)\u001b[0m\n\u001b[1;32m    574\u001b[0m                     \u001b[0;32mbreak\u001b[0m   \u001b[0;31m# timeout\u001b[0m\u001b[0;34m\u001b[0m\u001b[0;34m\u001b[0m\u001b[0m\n\u001b[0;32m--> 575\u001b[0;31m                 \u001b[0mbuf\u001b[0m \u001b[0;34m=\u001b[0m \u001b[0mos\u001b[0m\u001b[0;34m.\u001b[0m\u001b[0mread\u001b[0m\u001b[0;34m(\u001b[0m\u001b[0mself\u001b[0m\u001b[0;34m.\u001b[0m\u001b[0mfd\u001b[0m\u001b[0;34m,\u001b[0m \u001b[0msize\u001b[0m \u001b[0;34m-\u001b[0m \u001b[0mlen\u001b[0m\u001b[0;34m(\u001b[0m\u001b[0mread\u001b[0m\u001b[0;34m)\u001b[0m\u001b[0;34m)\u001b[0m\u001b[0;34m\u001b[0m\u001b[0;34m\u001b[0m\u001b[0m\n\u001b[0m\u001b[1;32m    576\u001b[0m             \u001b[0;32mexcept\u001b[0m \u001b[0mOSError\u001b[0m \u001b[0;32mas\u001b[0m \u001b[0me\u001b[0m\u001b[0;34m:\u001b[0m\u001b[0;34m\u001b[0m\u001b[0;34m\u001b[0m\u001b[0m\n",
      "\u001b[0;31mOSError\u001b[0m: [Errno 6] Device not configured",
      "\nDuring handling of the above exception, another exception occurred:\n",
      "\u001b[0;31mSerialException\u001b[0m                           Traceback (most recent call last)",
      "\u001b[0;32m<ipython-input-28-120cd501a175>\u001b[0m in \u001b[0;36m<module>\u001b[0;34m\u001b[0m\n\u001b[1;32m      2\u001b[0m \u001b[0;34m\u001b[0m\u001b[0m\n\u001b[1;32m      3\u001b[0m     \u001b[0;31m# Lendo as frequências convertidas que vem do microcontrolador\u001b[0m\u001b[0;34m\u001b[0m\u001b[0;34m\u001b[0m\u001b[0;34m\u001b[0m\u001b[0m\n\u001b[0;32m----> 4\u001b[0;31m     \u001b[0mdados_freq\u001b[0m \u001b[0;34m=\u001b[0m \u001b[0mint\u001b[0m\u001b[0;34m(\u001b[0m\u001b[0mser\u001b[0m\u001b[0;34m.\u001b[0m\u001b[0mreadline\u001b[0m\u001b[0;34m(\u001b[0m\u001b[0;34m)\u001b[0m\u001b[0;34m.\u001b[0m\u001b[0mdecode\u001b[0m\u001b[0;34m(\u001b[0m\u001b[0;34m'utf-8'\u001b[0m\u001b[0;34m,\u001b[0m\u001b[0;34m'ignore'\u001b[0m\u001b[0;34m)\u001b[0m\u001b[0;34m)\u001b[0m\u001b[0;34m\u001b[0m\u001b[0;34m\u001b[0m\u001b[0m\n\u001b[0m\u001b[1;32m      5\u001b[0m \u001b[0;34m\u001b[0m\u001b[0m\n\u001b[1;32m      6\u001b[0m     \u001b[0;32mfor\u001b[0m \u001b[0mnota\u001b[0m \u001b[0;32min\u001b[0m \u001b[0mrange\u001b[0m\u001b[0;34m(\u001b[0m\u001b[0mlen\u001b[0m\u001b[0;34m(\u001b[0m\u001b[0mfreq_notas\u001b[0m\u001b[0;34m)\u001b[0m\u001b[0;34m-\u001b[0m\u001b[0;36m1\u001b[0m\u001b[0;34m)\u001b[0m\u001b[0;34m:\u001b[0m\u001b[0;34m\u001b[0m\u001b[0;34m\u001b[0m\u001b[0m\n",
      "\u001b[0;32m~/anaconda3/lib/python3.7/site-packages/serial/serialposix.py\u001b[0m in \u001b[0;36mread\u001b[0;34m(self, size)\u001b[0m\n\u001b[1;32m    579\u001b[0m                 \u001b[0;31m# https://www.python.org/dev/peps/pep-0475.\u001b[0m\u001b[0;34m\u001b[0m\u001b[0;34m\u001b[0m\u001b[0;34m\u001b[0m\u001b[0m\n\u001b[1;32m    580\u001b[0m                 \u001b[0;32mif\u001b[0m \u001b[0me\u001b[0m\u001b[0;34m.\u001b[0m\u001b[0merrno\u001b[0m \u001b[0;32mnot\u001b[0m \u001b[0;32min\u001b[0m \u001b[0;34m(\u001b[0m\u001b[0merrno\u001b[0m\u001b[0;34m.\u001b[0m\u001b[0mEAGAIN\u001b[0m\u001b[0;34m,\u001b[0m \u001b[0merrno\u001b[0m\u001b[0;34m.\u001b[0m\u001b[0mEALREADY\u001b[0m\u001b[0;34m,\u001b[0m \u001b[0merrno\u001b[0m\u001b[0;34m.\u001b[0m\u001b[0mEWOULDBLOCK\u001b[0m\u001b[0;34m,\u001b[0m \u001b[0merrno\u001b[0m\u001b[0;34m.\u001b[0m\u001b[0mEINPROGRESS\u001b[0m\u001b[0;34m,\u001b[0m \u001b[0merrno\u001b[0m\u001b[0;34m.\u001b[0m\u001b[0mEINTR\u001b[0m\u001b[0;34m)\u001b[0m\u001b[0;34m:\u001b[0m\u001b[0;34m\u001b[0m\u001b[0;34m\u001b[0m\u001b[0m\n\u001b[0;32m--> 581\u001b[0;31m                     \u001b[0;32mraise\u001b[0m \u001b[0mSerialException\u001b[0m\u001b[0;34m(\u001b[0m\u001b[0;34m'read failed: {}'\u001b[0m\u001b[0;34m.\u001b[0m\u001b[0mformat\u001b[0m\u001b[0;34m(\u001b[0m\u001b[0me\u001b[0m\u001b[0;34m)\u001b[0m\u001b[0;34m)\u001b[0m\u001b[0;34m\u001b[0m\u001b[0;34m\u001b[0m\u001b[0m\n\u001b[0m\u001b[1;32m    582\u001b[0m             \u001b[0;32mexcept\u001b[0m \u001b[0mselect\u001b[0m\u001b[0;34m.\u001b[0m\u001b[0merror\u001b[0m \u001b[0;32mas\u001b[0m \u001b[0me\u001b[0m\u001b[0;34m:\u001b[0m\u001b[0;34m\u001b[0m\u001b[0;34m\u001b[0m\u001b[0m\n\u001b[1;32m    583\u001b[0m                 \u001b[0;31m# this is for Python 2.x\u001b[0m\u001b[0;34m\u001b[0m\u001b[0;34m\u001b[0m\u001b[0;34m\u001b[0m\u001b[0m\n",
      "\u001b[0;31mSerialException\u001b[0m: read failed: [Errno 6] Device not configured"
     ]
    }
   ],
   "source": [
    "while True:\n",
    "    \n",
    "    # Lendo as frequências convertidas que vem do microcontrolador\n",
    "    dados_freq = int(ser.readline().decode('utf-8','ignore'))\n",
    "    \n",
    "    for nota in range(len(freq_notas)-1):\n",
    "        if dados_freq >= frequencias[nota] and dados_freq <= frequencias[nota+1]:\n",
    "            print('Acorde', acordes[nota], 'freq', round(frequencias[nota],2))\n",
    "            tom = acordes[nota]\n",
    "        # sí (B) está de fora, tem que colocar\n",
    "        if dados_freq > freq_notas['B'] and dados_freq < freq_max:\n",
    "            tom = 'B'\n",
    "            print('Acorde B, freq', round(freq_notas['B'],2))\n",
    "\n",
    "        if dados_freq <= freq_min or dados_freq >= freq_max:\n",
    "            tom = ',,'\n",
    "\n",
    "    musica = gerar_musica(notas_musicais=tom, \n",
    "                          pontos_por_seg=samplerate, duracao=0.7)\n",
    "    sd.play(musica, samplerate)"
   ]
  },
  {
   "cell_type": "code",
   "execution_count": null,
   "metadata": {},
   "outputs": [],
   "source": []
  },
  {
   "cell_type": "code",
   "execution_count": null,
   "metadata": {},
   "outputs": [],
   "source": []
  }
 ],
 "metadata": {
  "kernelspec": {
   "display_name": "Python 3",
   "language": "python",
   "name": "python3"
  },
  "language_info": {
   "codemirror_mode": {
    "name": "ipython",
    "version": 3
   },
   "file_extension": ".py",
   "mimetype": "text/x-python",
   "name": "python",
   "nbconvert_exporter": "python",
   "pygments_lexer": "ipython3",
   "version": "3.7.3"
  }
 },
 "nbformat": 4,
 "nbformat_minor": 2
}
